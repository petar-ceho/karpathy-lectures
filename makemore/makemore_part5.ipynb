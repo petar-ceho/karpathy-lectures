{
 "cells": [
  {
   "cell_type": "code",
   "execution_count": 1,
   "id": "bbd796f8-2089-4f9e-9f26-35125f6dfa2f",
   "metadata": {},
   "outputs": [],
   "source": [
    "import torch\n",
    "import torch.nn.functional as F\n",
    "import matplotlib as plt\n",
    "%matplotlib inline"
   ]
  },
  {
   "cell_type": "code",
   "execution_count": 7,
   "id": "7c452821",
   "metadata": {},
   "outputs": [
    {
     "name": "stdout",
     "output_type": "stream",
     "text": [
      "32033\n",
      "15\n",
      "['emma', 'olivia', 'ava', 'isabella', 'sophia']\n"
     ]
    }
   ],
   "source": [
    "#read dataset and some info about it   \n",
    "words=open('names.txt','r').read().splitlines()\n",
    "print(len(words))\n",
    "print(max(len(w)for  w in words))\n",
    "print(words[:5])"
   ]
  },
  {
   "cell_type": "code",
   "execution_count": 10,
   "id": "cd9d0fb1",
   "metadata": {},
   "outputs": [
    {
     "name": "stdout",
     "output_type": "stream",
     "text": [
      "{1: 'a', 2: 'b', 3: 'c', 4: 'd', 5: 'e', 6: 'f', 7: 'g', 8: 'h', 9: 'i', 10: 'j', 11: 'k', 12: 'l', 13: 'm', 14: 'n', 15: 'o', 16: 'p', 17: 'q', 18: 'r', 19: 's', 20: 't', 21: 'u', 22: 'v', 23: 'w', 24: 'x', 25: 'y', 26: 'z', 0: '.'}\n",
      "27\n"
     ]
    }
   ],
   "source": [
    "#build vocab of chars and mapping to/from integers \n",
    "chars=sorted(list(set(''.join(words))))\n",
    "#string to integers \n",
    "stoi= {s:i+1 for i,s in enumerate(chars)}\n",
    "stoi['.']=0 #special chars for marking the beg/end\n",
    "itos={i:s for s,i in stoi.items()} #int to string \n",
    "vocab_size=len(itos)\n",
    "print(itos)\n",
    "print(vocab_size)"
   ]
  },
  {
   "cell_type": "code",
   "execution_count": 11,
   "id": "6ca68d88",
   "metadata": {},
   "outputs": [],
   "source": [
    "#random shuffle the words\n",
    "import random \n",
    "random.seed(42)\n",
    "random.shuffle(words)"
   ]
  },
  {
   "cell_type": "code",
   "execution_count": 12,
   "id": "cdfc657e",
   "metadata": {},
   "outputs": [
    {
     "name": "stdout",
     "output_type": "stream",
     "text": [
      "torch.Size([182625, 8]) torch.Size([182625])\n",
      "torch.Size([22655, 8]) torch.Size([22655])\n",
      "torch.Size([22866, 8]) torch.Size([22866])\n"
     ]
    }
   ],
   "source": [
    "#build dataset \n",
    "block_size=8\n",
    "\n",
    "def build_dataset(words):\n",
    "    X,Y=[],[]\n",
    "    for w in words:\n",
    "        context=[0]*block_size\n",
    "        for ch in w+'.':\n",
    "            ix=stoi[ch]\n",
    "            X.append(context)\n",
    "            Y.append(ix)\n",
    "            context=context[1:]+[ix]\n",
    "\n",
    "    X=torch.tensor(X)\n",
    "    Y=torch.tensor(Y)\n",
    "    print(X.shape,Y.shape)\n",
    "    return X,Y\n",
    "\n",
    "\n",
    "n1=int(0.8*len(words))\n",
    "n2=int(0.9*len(words))\n",
    "\n",
    "#build train(80%),dev(10%),test(10%) datasets\n",
    "Xtr,Ytr=build_dataset(words[:n1])\n",
    "Xdev,Ydev=build_dataset(words[n1:n2])\n",
    "Xte,Yte=build_dataset(words[n2:])\n"
   ]
  },
  {
   "cell_type": "code",
   "execution_count": 13,
   "id": "5b662add",
   "metadata": {},
   "outputs": [
    {
     "name": "stdout",
     "output_type": "stream",
     "text": [
      "........ ---> y\n",
      ".......y ---> u\n",
      "......yu ---> h\n",
      ".....yuh ---> e\n",
      "....yuhe ---> n\n",
      "...yuhen ---> g\n",
      "..yuheng ---> .\n",
      "........ ---> d\n",
      ".......d ---> i\n",
      "......di ---> o\n",
      ".....dio ---> n\n",
      "....dion ---> d\n",
      "...diond ---> r\n",
      "..diondr ---> e\n",
      ".diondre ---> .\n",
      "........ ---> x\n",
      ".......x ---> a\n",
      "......xa ---> v\n",
      ".....xav ---> i\n",
      "....xavi ---> e\n"
     ]
    }
   ],
   "source": [
    "for x,y in zip(Xtr[:20],Ytr[:20]):\n",
    "    print(''.join(itos[ix.item()]for ix in x),'--->',itos[y.item()])"
   ]
  },
  {
   "cell_type": "code",
   "execution_count": 23,
   "id": "2e05b322",
   "metadata": {},
   "outputs": [],
   "source": [
    "#almost identical as pytorch layers \n",
    "class Linear:\n",
    "\n",
    "    def __init__(self,fan_in,fan_out,bias=True):\n",
    "        self.weight=torch.rand((fan_in,fan_out))/fan_in**0.5 #kaiming init\n",
    "        self.bias=torch.zeros(fan_out)if bias else None\n",
    "    \n",
    "    def __call__(self, x):\n",
    "        self.out=x @self.weight\n",
    "        if self.bias is not None:\n",
    "            self.out+=self.bias\n",
    "        return self.out\n",
    "    \n",
    "    def parameters(self):\n",
    "        return [self.weight]+([]if self.bias is None else [self.bias]) \n",
    "    \n",
    "\n",
    "class BatchNorm1d:\n",
    "    \n",
    "    def __init__(self,dim,eps=1e-5,momentum=0.1):\n",
    "        self.eps=eps\n",
    "        self.momentum=momentum\n",
    "        self.training=True\n",
    "        #parameters(trained with backprop)\n",
    "        self.gamma=torch.ones(dim)\n",
    "        self.beta=torch.zeros(dim)\n",
    "        #buffers(trained with a running momentum update)\n",
    "        self.running_mean=torch.zeros(dim)\n",
    "        self.running_var=torch.ones(dim)\n",
    "\n",
    "\n",
    "    def __call__(self,x):\n",
    "        if self.training:\n",
    "            if x.ndim==2:\n",
    "                dim=0\n",
    "            elif x.ndim==3:\n",
    "                dim=(0,1)\n",
    "            xmean=x.mean(dim,keepdim=True)#batch mean\n",
    "            xvar=x.var(dim,keepdim=True)#batch mean\n",
    "        else:\n",
    "            xmean=self.running_mean\n",
    "            xvar=self.running_var\n",
    "        xhat=(x-xmean)/torch.sqrt(xvar+self.eps)#normalize to unit variance\n",
    "        self.out=self.gamma*xhat+self.beta #scale and shift\n",
    "        #update the buffers\n",
    "        if self.training:\n",
    "            with torch.no_grad():\n",
    "                self.running_mean=(1-self.momentum)*self.running_mean+self.momentum\n",
    "                self.running_var=(1-self.momentum)*self.running_var+self.momentum\n",
    "        return self.out\n",
    "    \n",
    "    def parameters(self):\n",
    "        return [self.gamma,self.beta]\n",
    "    \n",
    "class Tanh:\n",
    "    def _call__(self,x):\n",
    "        self.out=torch.tanh(x)\n",
    "        return self.out\n",
    "    \n",
    "    def parameters(self):\n",
    "        return []\n",
    "    \n",
    "\n",
    "class Embedding:\n",
    "    #initalize embedding lookup table   \n",
    "    def __init__(self,num_embeddings,embedding_dim):\n",
    "        self.weight=torch.rand((num_embeddings,embedding_dim))\n",
    "\n",
    "    def __call__(self,IX):\n",
    "        self.out=self.weight[IX]\n",
    "\n",
    "    def parameters(self):\n",
    "        return [self.weight]\n",
    "    \n",
    "class FlattenConsecutive:\n",
    "\n",
    "    def __init__(self,n):\n",
    "        self.n=n #block size\n",
    "\n",
    "    def __call__(self,x):\n",
    "        B,T,C=x.shape #[batch,block_size,embeddings]\n",
    "        x=x.view(B,T//self.n,C*self.n)\n",
    "        if x.shape[1]==1:\n",
    "            x=x.squeeze(1)\n",
    "        self.out=x\n",
    "        return self.out\n",
    "    \n",
    "    def parameters(self):\n",
    "        return []\n",
    "    \n",
    "\n",
    "class Sequential:\n",
    "\n",
    "    def __init__(self,layers):\n",
    "        self.layers=layers\n",
    "    \n",
    "    #forward pass\n",
    "    def __call__(self,x):\n",
    "        for layer in self.layers:\n",
    "            x=layer(x)\n",
    "        self.out=x\n",
    "        return self.out\n",
    "    \n",
    "    def parameters(self):\n",
    "        return [p for layer in self.layers for p in layer.parameters()]"
   ]
  },
  {
   "cell_type": "code",
   "execution_count": 24,
   "id": "ce79bff6",
   "metadata": {},
   "outputs": [],
   "source": [
    "torch.manual_seed(42); # seed rng for reproducibility\n"
   ]
  },
  {
   "cell_type": "code",
   "execution_count": 27,
   "id": "c7ede7d2",
   "metadata": {},
   "outputs": [
    {
     "name": "stdout",
     "output_type": "stream",
     "text": [
      "76579\n"
     ]
    }
   ],
   "source": [
    "n_embd=24 #dims of chars embedding vectors \n",
    "n_hidden=128#number of neurons in the hidden layer of MLP \n",
    "#define model layers\n",
    "model = Sequential([\n",
    "    Embedding(vocab_size,n_embd),\n",
    "    FlattenConsecutive(2),Linear(n_embd*2,n_hidden,bias=False),BatchNorm1d(n_hidden),Tanh(),\n",
    "    FlattenConsecutive(2),Linear(n_hidden*2,n_hidden,bias=False),BatchNorm1d(n_hidden),Tanh(),\n",
    "    FlattenConsecutive(2),Linear(n_hidden*2,n_hidden,bias=False),BatchNorm1d(n_hidden),Tanh(),\n",
    "    Linear(n_hidden,vocab_size),\n",
    "])\n",
    "\n",
    "with torch.no_grad():\n",
    "    model.layers[-1].weight*=0.1 #last layer make less confident at init\n",
    "\n",
    "parameters=model.parameters()\n",
    "print(sum(p.nelement() for p in parameters))\n",
    "\n",
    "#set params require grad for backprop\n",
    "for p in parameters:\n",
    "    p.requires_grad=True\n"
   ]
  },
  {
   "cell_type": "code",
   "execution_count": null,
   "id": "56537dde",
   "metadata": {},
   "outputs": [],
   "source": []
  }
 ],
 "metadata": {
  "kernelspec": {
   "display_name": "Python 3",
   "language": "python",
   "name": "python3"
  },
  "language_info": {
   "codemirror_mode": {
    "name": "ipython",
    "version": 3
   },
   "file_extension": ".py",
   "mimetype": "text/x-python",
   "name": "python",
   "nbconvert_exporter": "python",
   "pygments_lexer": "ipython3",
   "version": "3.8.10"
  }
 },
 "nbformat": 4,
 "nbformat_minor": 5
}
